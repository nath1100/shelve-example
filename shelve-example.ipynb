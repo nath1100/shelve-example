{
 "cells": [
  {
   "cell_type": "code",
   "execution_count": 157,
   "metadata": {},
   "outputs": [],
   "source": [
    "import shelve"
   ]
  },
  {
   "cell_type": "markdown",
   "metadata": {},
   "source": [
    "# First some setup\n",
    "We create a hash table of some arbitrary data which\n",
    "we will then store into our shelf/database.\n",
    "\n",
    "From then on, we will only access the data via the shelf and not our hash table."
   ]
  },
  {
   "cell_type": "code",
   "execution_count": 158,
   "metadata": {},
   "outputs": [],
   "source": [
    "# Build an arbitrary dict\n",
    "hash_table = {}\n",
    "for key in range(40):\n",
    "    # Populate with arbitrary data - note keys are string\n",
    "    hash_table[str(key)] = {\n",
    "        \"column1\": \"some data\",\n",
    "        \"column2\": \"some data\",\n",
    "        \"column3\": {\"nested col1\": \"some other data\"}\n",
    "    }"
   ]
  },
  {
   "cell_type": "code",
   "execution_count": 159,
   "metadata": {},
   "outputs": [],
   "source": [
    "# Define our shelf file\n",
    "db_file = \"./db/shelf_file\""
   ]
  },
  {
   "cell_type": "markdown",
   "metadata": {},
   "source": [
    "# Storing and retrieving data in the shelf."
   ]
  },
  {
   "cell_type": "code",
   "execution_count": 160,
   "metadata": {},
   "outputs": [],
   "source": [
    "# Store dict data into shelf, context manager (with) closes automatically\n",
    "# We store the files into a folder /db\n",
    "with shelve.open(db_file) as shelf:\n",
    "    for key in hash_table:\n",
    "        shelf[key] = hash_table[key]"
   ]
  },
  {
   "cell_type": "code",
   "execution_count": 161,
   "metadata": {},
   "outputs": [
    {
     "name": "stdout",
     "output_type": "stream",
     "text": [
      "{'column1': 'some data', 'column2': 'some data', 'column3': {'nested col1': 'some other data'}}\n",
      "{'column1': 'some data', 'column2': 'some data', 'column3': {'nested col1': 'some other data'}}\n",
      "{'column1': 'some data', 'column2': 'some data', 'column3': {'nested col1': 'some other data'}}\n",
      "{'column1': 'some data', 'column2': 'some data', 'column3': {'nested col1': 'some other data'}}\n",
      "{'column1': 'some data', 'column2': 'some data', 'column3': {'nested col1': 'some other data'}}\n",
      "{'column1': 'some data', 'column2': 'some data', 'column3': {'nested col1': 'some other data'}}\n",
      "{'column1': 'some data', 'column2': 'some data', 'column3': {'nested col1': 'some other data'}}\n",
      "{'column1': 'some data', 'column2': 'some data', 'column3': {'nested col1': 'some other data'}}\n",
      "{'column1': 'some data', 'column2': 'some data', 'column3': {'nested col1': 'some other data'}}\n",
      "{'column1': 'some data', 'column2': 'some data', 'column3': {'nested col1': 'some other data'}}\n",
      "{'column1': 'some data', 'column2': 'some data', 'column3': {'nested col1': 'some other data'}}\n",
      "{'column1': 'some data', 'column2': 'some data', 'column3': {'nested col1': 'some other data'}}\n",
      "{'column1': 'some data', 'column2': 'some data', 'column3': {'nested col1': 'some other data'}}\n",
      "{'column1': 'some data', 'column2': 'some data', 'column3': {'nested col1': 'some other data'}}\n",
      "{'column1': 'some data', 'column2': 'some data', 'column3': {'nested col1': 'some other data'}}\n",
      "{'column1': 'some data', 'column2': 'some data', 'column3': {'nested col1': 'some other data'}}\n",
      "{'column1': 'some data', 'column2': 'some data', 'column3': {'nested col1': 'some other data'}}\n",
      "{'column1': 'some data', 'column2': 'some data', 'column3': {'nested col1': 'some other data'}}\n",
      "{'column1': 'some data', 'column2': 'some data', 'column3': {'nested col1': 'some other data'}}\n",
      "{'column1': 'some data', 'column2': 'some data', 'column3': {'nested col1': 'some other data'}}\n",
      "{'column1': 'some data', 'column2': 'some data', 'column3': {'nested col1': 'some other data'}}\n",
      "{'column1': 'some data', 'column2': 'some data', 'column3': {'nested col1': 'some other data'}}\n",
      "{'column1': 'some data', 'column2': 'some data', 'column3': {'nested col1': 'some other data'}}\n",
      "{'column1': 'some data', 'column2': 'some data', 'column3': {'nested col1': 'some other data'}}\n",
      "{'column1': 'some data', 'column2': 'some data', 'column3': {'nested col1': 'some other data'}}\n",
      "{'column1': 'some data', 'column2': 'some data', 'column3': {'nested col1': 'some other data'}}\n",
      "{'column1': 'some data', 'column2': 'some data', 'column3': {'nested col1': 'some other data'}}\n",
      "{'column1': 'some data', 'column2': 'some data', 'column3': {'nested col1': 'some other data'}}\n",
      "{'column1': 'some data', 'column2': 'some data', 'column3': {'nested col1': 'some other data'}}\n",
      "{'column1': 'some data', 'column2': 'some data', 'column3': {'nested col1': 'some other data'}}\n",
      "{'column1': 'some data', 'column2': 'some data', 'column3': {'nested col1': 'some other data'}}\n",
      "{'column1': 'some data', 'column2': 'some data', 'column3': {'nested col1': 'some other data'}}\n",
      "{'column1': 'some data', 'column2': 'some data', 'column3': {'nested col1': 'some other data'}}\n",
      "{'column1': 'some data', 'column2': 'some data', 'column3': {'nested col1': 'some other data'}}\n",
      "{'column1': 'some data', 'column2': 'some data', 'column3': {'nested col1': 'some other data'}}\n",
      "{'column1': 'some data', 'column2': 'some data', 'column3': {'nested col1': 'some other data'}}\n",
      "{'column1': 'some data', 'column2': 'some data', 'column3': {'nested col1': 'some other data'}}\n",
      "{'column1': 'some data', 'column2': 'some data', 'column3': {'nested col1': 'some other data'}}\n",
      "{'column1': 'some data', 'column2': 'some data', 'column3': {'nested col1': 'some other data'}}\n",
      "{'column1': 'some data', 'column2': 'some data', 'column3': {'nested col1': 'some other data'}}\n",
      "a, b, c, d\n",
      "[1, 2, 3, 4, 5, 6]\n",
      "a, b, c, d\n"
     ]
    }
   ],
   "source": [
    "# Loading and reading from the shelf is the same as before.\n",
    "# \"r\" specifies read only; by default it's set to \"c\", which is read/write/create\n",
    "with shelve.open(db_file, \"r\") as shelf:\n",
    "    for key in shelf:\n",
    "        print(shelf[key])"
   ]
  },
  {
   "cell_type": "code",
   "execution_count": 162,
   "metadata": {},
   "outputs": [],
   "source": [
    "# Shelve uses pickle to serialise data, so storing python objects works fine:\n",
    "# Create an arbitrary class\n",
    "class SomeObject:\n",
    "    def __init__(self) -> None:\n",
    "        self.some_property = [\n",
    "            \"a\", \"b\", \"c\", \"d\"\n",
    "        ]\n",
    "    def __str__(self) -> str:\n",
    "        return \", \".join(self.some_property)\n",
    "\n",
    "    def mutate(self, data) -> None:\n",
    "        self.some_property.append(data)"
   ]
  },
  {
   "cell_type": "code",
   "execution_count": 163,
   "metadata": {},
   "outputs": [
    {
     "name": "stdout",
     "output_type": "stream",
     "text": [
      "a, b, c, d\n"
     ]
    }
   ],
   "source": [
    "# Let's add this new class to key 40 of our shelf\n",
    "with shelve.open(db_file) as shelf:\n",
    "    shelf[\"40\"] = SomeObject()\n",
    "\n",
    "    # Check our object\n",
    "    print(shelf[\"40\"])"
   ]
  },
  {
   "cell_type": "code",
   "execution_count": 164,
   "metadata": {},
   "outputs": [
    {
     "name": "stdout",
     "output_type": "stream",
     "text": [
      "a, b, c, d\n"
     ]
    }
   ],
   "source": [
    "# Of course, accessing it later works fine\n",
    "# Shelve lets us load only entry 40 into memory and not the entire file\n",
    "with shelve.open(db_file) as shelf:\n",
    "    print(shelf[\"40\"])"
   ]
  },
  {
   "cell_type": "code",
   "execution_count": 165,
   "metadata": {},
   "outputs": [
    {
     "name": "stdout",
     "output_type": "stream",
     "text": [
      "{'column1': 'some data', 'column2': 'some data', 'column3': {'nested col1': 'some other data'}}\n"
     ]
    }
   ],
   "source": [
    "# If we dont use a context manager (with) then we must close the file manually,\n",
    "# otherwise we cause a memory leak as it never closes itself.\n",
    "shelf = shelve.open(db_file)\n",
    "print(shelf[\"5\"])\n",
    "shelf.close()\n",
    "\n",
    "# Using the with context manager is simpler and easier."
   ]
  },
  {
   "cell_type": "markdown",
   "metadata": {},
   "source": [
    "# Mutating objects in the shelf and using `writeback=True`"
   ]
  },
  {
   "cell_type": "code",
   "execution_count": 166,
   "metadata": {},
   "outputs": [
    {
     "name": "stdout",
     "output_type": "stream",
     "text": [
      "[1, 2, 3, 4]\n"
     ]
    }
   ],
   "source": [
    "# By default, shelve won't mutate entries, only overwrite them\n",
    "with shelve.open(db_file) as shelf:\n",
    "    shelf[\"100\"] = [1, 2, 3, 4]\n",
    "    shelf[\"100\"].append(5)\n",
    "    print(shelf[\"100\"])\n",
    "\n",
    "# Note the output is still [1, 2, 3, 4] and not [1, 2, 3, 4, 5]"
   ]
  },
  {
   "cell_type": "code",
   "execution_count": 167,
   "metadata": {},
   "outputs": [
    {
     "name": "stdout",
     "output_type": "stream",
     "text": [
      "[1, 2, 3, 4]\n",
      "[1, 2, 3, 4, 5]\n"
     ]
    }
   ],
   "source": [
    "# If you need to mutate data instead of simply overwriting, you must enable writeback\n",
    "with shelve.open(db_file, writeback=True) as shelf:\n",
    "    print(shelf[\"100\"])\n",
    "    shelf[\"100\"].append(5)\n",
    "    print(shelf[\"100\"])\n",
    "\n",
    "# Use this only if you MUST mutate as this significantly increases the memory overhead"
   ]
  },
  {
   "cell_type": "code",
   "execution_count": 168,
   "metadata": {},
   "outputs": [
    {
     "name": "stdout",
     "output_type": "stream",
     "text": [
      "[1, 2, 3, 4, 5]\n",
      "[1, 2, 3, 4, 5, 6]\n"
     ]
    }
   ],
   "source": [
    "# Using the previous example, we can sidestep this problem without writeback=True\n",
    "with shelve.open(db_file) as shelf:\n",
    "    print(shelf[\"100\"])\n",
    "    \n",
    "    array = shelf[\"100\"]\n",
    "    array.append(6)\n",
    "    shelf[\"100\"] = array\n",
    "    \n",
    "    print(shelf[\"100\"])"
   ]
  },
  {
   "cell_type": "code",
   "execution_count": 169,
   "metadata": {},
   "outputs": [
    {
     "name": "stdout",
     "output_type": "stream",
     "text": [
      "a, b, c, d\n",
      "a, b, c, d\n"
     ]
    }
   ],
   "source": [
    "# This problem extends to class methods as well\n",
    "with shelve.open(db_file) as shelf:\n",
    "    shelf[\"our class\"] = SomeObject()\n",
    "    print(shelf[\"our class\"])\n",
    "\n",
    "    shelf[\"our class\"].mutate(\"X\")\n",
    "    print(shelf[\"our class\"])\n",
    "\n",
    "# Like before, we'll have to overwrite the class with a copy rather than mutating it."
   ]
  },
  {
   "cell_type": "markdown",
   "metadata": {},
   "source": [
    "# Exceptions and Errors"
   ]
  },
  {
   "cell_type": "code",
   "execution_count": 170,
   "metadata": {},
   "outputs": [
    {
     "name": "stdout",
     "output_type": "stream",
     "text": [
      "Key: b'apples' does not exist in shelf\n"
     ]
    }
   ],
   "source": [
    "# Accessing a key that doesn't exist raises a KeyError\n",
    "with shelve.open(db_file) as shelf:\n",
    "    try:\n",
    "        print(shelf[\"apples\"])\n",
    "    except KeyError as e:\n",
    "        print(\"Key: {} does not exist in shelf\".format(e))"
   ]
  },
  {
   "cell_type": "markdown",
   "metadata": {},
   "source": [
    "# Deleting data from the shelf"
   ]
  },
  {
   "cell_type": "code",
   "execution_count": 171,
   "metadata": {},
   "outputs": [
    {
     "name": "stdout",
     "output_type": "stream",
     "text": [
      "This entry will be deleted\n",
      "b'some entry' doesn't exist anymore\n"
     ]
    }
   ],
   "source": [
    "# We can delete an entry with the del keyword\n",
    "with shelve.open(db_file) as shelf:\n",
    "    shelf[\"some entry\"] = \"This entry will be deleted\"\n",
    "    print(shelf[\"some entry\"])\n",
    "\n",
    "    del shelf[\"some entry\"]\n",
    "\n",
    "    try:\n",
    "        print(shelf[\"some entry\"])\n",
    "    except KeyError as e:\n",
    "        print(\"{} doesn't exist anymore\".format(e))"
   ]
  },
  {
   "cell_type": "code",
   "execution_count": 172,
   "metadata": {},
   "outputs": [],
   "source": [
    "# Cleaning up our objects\n",
    "with shelve.open(db_file) as shelf:\n",
    "    del shelf[\"our class\"]\n",
    "    del shelf[\"40\"]"
   ]
  }
 ],
 "metadata": {
  "interpreter": {
   "hash": "f086d664f020996384d02551a9f476cedf515cb3713b3cea3879d31b0beaff08"
  },
  "kernelspec": {
   "display_name": "Python 3.10.0 64-bit",
   "language": "python",
   "name": "python3"
  },
  "language_info": {
   "codemirror_mode": {
    "name": "ipython",
    "version": 3
   },
   "file_extension": ".py",
   "mimetype": "text/x-python",
   "name": "python",
   "nbconvert_exporter": "python",
   "pygments_lexer": "ipython3",
   "version": "3.10.0"
  },
  "orig_nbformat": 4
 },
 "nbformat": 4,
 "nbformat_minor": 2
}
